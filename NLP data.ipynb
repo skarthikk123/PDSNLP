{
 "cells": [
  {
   "cell_type": "code",
   "execution_count": 2,
   "metadata": {
    "collapsed": true
   },
   "outputs": [],
   "source": [
    "import csv\n",
    "import pandas as pd\n",
    "from IPython.display import display"
   ]
  },
  {
   "cell_type": "code",
   "execution_count": 3,
   "metadata": {
    "collapsed": true
   },
   "outputs": [],
   "source": [
    "with open('toxicity_annotations_unanimous.tsv','r') as tsv_toxicity_annotations:\n",
    "    toxicity_annotations = [line.strip().split('\\t') for line in tsv_toxicity_annotations]\n",
    "\n",
    "with open('toxicity_annotated_comments_unanimous.tsv','r') as tsv_toxicity_comments:\n",
    "    toxicity_annotations_comments = [line.strip().split('\\t') for line in tsv_toxicity_comments]"
   ]
  },
  {
   "cell_type": "code",
   "execution_count": 4,
   "metadata": {
    "collapsed": true
   },
   "outputs": [],
   "source": [
    "toxicity_annotations_df = pd.read_table('toxicity_annotations_unanimous.tsv')\n",
    "toxicity_annotations_comments_df = pd.read_table('toxicity_annotated_comments_unanimous.tsv')"
   ]
  },
  {
   "cell_type": "code",
   "execution_count": null,
   "metadata": {
    "scrolled": true
   },
   "outputs": [],
   "source": [
    "#Comput mean and median scores from annotations dataset\n",
    "toxicity_annotations_comments_df[\"mean_score\"] = pd.Series(toxicity_annotations_df.groupby(\"rev_id\",as_index=False).mean()[\"toxicity_score\"])\n",
    "toxicity_annotations_comments_df[\"median_score\"] = pd.Series(toxicity_annotations_df.groupby(\"rev_id\",as_index=False).median()[\"toxicity_score\"])\n",
    "# create binary variable toxicity: if median score < 0, toxicity=1, otherwise 0\n",
    "toxicity_annotations_comments_df[\"toxicity\"] = (toxicity_annotations_comments_df[\"median_score\"] < 0).astype(int)\n",
    "\n",
    "#display (toxicity_annotations_comments_df)"
   ]
  },
  {
   "cell_type": "code",
   "execution_count": null,
   "metadata": {
    "scrolled": true
   },
   "outputs": [],
   "source": [
    "#Replace \"newline token\" with \\n\n",
    "toxicity_annotations_comments_df['comment'].replace('NEWLINE_TOKEN',r'\\n',regex=True,inplace=True)\n",
    "\n",
    "#Compute comment length for each comment and store it as a table\n",
    "toxicity_annotations_comments_df['comment_len'] = toxicity_annotations_comments_df['comment'].apply(len)"
   ]
  },
  {
   "cell_type": "code",
   "execution_count": 137,
   "metadata": {},
   "outputs": [
    {
     "name": "stdout",
     "output_type": "stream",
     "text": [
      "toxicity hist is{'-2.0': 12, '-1.0': 159, '0.0': 3187, '1.0': 224, '2.0': 0}\n",
      "comment length hist is {'-2.0': 2163.0, '-1.0': 187.77987421383648, '0.0': 91.54910574207719, '1.0': 453.9732142857143, '2.0': 0}\n"
     ]
    }
   ],
   "source": [
    "#group data based off rev_id and score\n",
    "toxicity_grouped = toxicity_annotations_comments_df.groupby(['rev_id' , 'median_score'])\n",
    "\n",
    "#intialize empty dict\n",
    "toxicity_dict = {\"-2.0\": 0, \"-1.0\": 0, \"0.0\": 0, \"1.0\": 0, \"2.0\": 0}\n",
    "comment_length_dict = {\"-2.0\": 0, \"-1.0\": 0, \"0.0\": 0, \"1.0\": 0, \"2.0\": 0}\n",
    "\n",
    "#build a histogram dict\n",
    "for name, group in toxicity_grouped:\n",
    "    rev_id,toxicity = name\n",
    "    toxicity_dict[str(toxicity)] = toxicity_dict[str(toxicity)] + 1 \n",
    "    \n",
    "print (\"toxicity hist is\" + str(toxicity_dict))\n",
    "\n",
    "for median in range(-2,2,1):\n",
    "    comment_length_dict[str(float(median))] = (toxicity_annotations_comments_df.loc[toxicity_annotations_comments_df['median_score']==float(median)]['comment_len']).mean()    \n",
    "print (\"comment length hist is \" + str(comment_length_dict))"
   ]
  },
  {
   "cell_type": "code",
   "execution_count": null,
   "metadata": {
    "collapsed": true
   },
   "outputs": [],
   "source": [
    "#Merge the two panda tables\n",
    "#toxicity_annotations_combined = pd.merge(toxicity_annotations_comments_df,toxicity_annotations_df,on='rev_id')\n",
    "#display (toxicity_annotations_comments_df)"
   ]
  }
 ],
 "metadata": {
  "kernelspec": {
   "display_name": "Python 3",
   "language": "python",
   "name": "python3"
  },
  "language_info": {
   "codemirror_mode": {
    "name": "ipython",
    "version": 3
   },
   "file_extension": ".py",
   "mimetype": "text/x-python",
   "name": "python",
   "nbconvert_exporter": "python",
   "pygments_lexer": "ipython3",
   "version": "3.6.1"
  }
 },
 "nbformat": 4,
 "nbformat_minor": 2
}
