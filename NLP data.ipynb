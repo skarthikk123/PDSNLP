{
 "cells": [
  {
   "cell_type": "markdown",
   "metadata": {},
   "source": [
    "# Notebook to do data analysis on the NLP data in the Portland Data Science Group"
   ]
  },
  {
   "cell_type": "markdown",
   "metadata": {},
   "source": [
    "Importing CSV, Pandas, Ipython display to display pandas dataframes, nltk, matplotlib"
   ]
  },
  {
   "cell_type": "code",
   "execution_count": 2,
   "metadata": {
    "collapsed": true
   },
   "outputs": [],
   "source": [
    "import csv\n",
    "import pandas as pd\n",
    "from IPython.display import display\n",
    "import nltk \n",
    "import matplotlib.pyplot as plt\n",
    "import numpy as np"
   ]
  },
  {
   "cell_type": "markdown",
   "metadata": {},
   "source": [
    "Read in the data as pandas dataframe"
   ]
  },
  {
   "cell_type": "code",
   "execution_count": 38,
   "metadata": {
    "collapsed": true
   },
   "outputs": [],
   "source": [
    "toxicity_annotations_unanimous_df = pd.read_table('toxicity_annotations_unanimous.tsv')\n",
    "toxicity_annotations_comments_unanimous_df = pd.read_table('toxicity_annotated_comments_unanimous.tsv')\n",
    "toxicity_annotations_df = pd.read_table('toxicity_annotations.tsv')\n",
    "toxicity_annotations_comments_df = pd.read_table('toxicity_annotated_comments.tsv')"
   ]
  },
  {
   "cell_type": "markdown",
   "metadata": {},
   "source": [
    "Merge the two tables into one by computing a median score and determining toxicity of comments"
   ]
  },
  {
   "cell_type": "code",
   "execution_count": 39,
   "metadata": {
    "collapsed": true,
    "scrolled": true
   },
   "outputs": [],
   "source": [
    "#Comput mean and median scores from annotations dataset\n",
    "toxicity_annotations_comments_df[\"mean_score\"] = pd.Series(toxicity_annotations_df.groupby(\"rev_id\",as_index=False).mean()[\"toxicity_score\"])\n",
    "toxicity_annotations_comments_df[\"median_score\"] = pd.Series(toxicity_annotations_df.groupby(\"rev_id\",as_index=False).median()[\"toxicity_score\"])\n",
    "# create binary variable toxicity: if median score < 0, toxicity=1, otherwise 0\n",
    "toxicity_annotations_comments_df[\"toxicity\"] = (toxicity_annotations_comments_df[\"median_score\"] < 0).astype(int)\n",
    "\n",
    "#display (toxicity_annotations_comments_df)"
   ]
  },
  {
   "cell_type": "markdown",
   "metadata": {},
   "source": [
    "Cleaning up the data and adding a few new columns to help analysis"
   ]
  },
  {
   "cell_type": "code",
   "execution_count": 40,
   "metadata": {
    "collapsed": true,
    "scrolled": true
   },
   "outputs": [],
   "source": [
    "#Replace \"newline token\" with \\n\n",
    "toxicity_annotations_comments_df['comment'].replace('NEWLINE_TOKEN',' ',regex=True,inplace=True)\n",
    "toxicity_annotations_comments_df['comment'].replace('TAB_TOKEN',' ',regex=True,inplace=True)\n",
    "\n",
    "#Compute comment length for each comment and store it as a table\n",
    "toxicity_annotations_comments_df['comment_len'] = toxicity_annotations_comments_df['comment'].apply(len)"
   ]
  },
  {
   "cell_type": "markdown",
   "metadata": {},
   "source": [
    "Plotting some basic plots about the data"
   ]
  },
  {
   "cell_type": "code",
   "execution_count": 68,
   "metadata": {},
   "outputs": [
    {
     "name": "stdout",
     "output_type": "stream",
     "text": [
      "toxicity hist is{'-2.0': 17710, '-1.0': 139172, '0.0': 934043, '1.0': 391721, '2.0': 11, '0.5': 228624, '-0.5': 33044, '1.5': 121, '-1.5': 12100}\n",
      "comment length hist is {'-2.0': 459.8229813664596, '-1.0': 285.45882073980397, '0.0': 322.4702695700305, '1.0': 569.844345848193, '2.0': 472.0, '0.5': 503.7797344110854, '-0.5': 409.1398135818908, '1.5': 519.0, '-1.5': 241.01272727272726}\n"
     ]
    },
    {
     "data": {
      "image/png": "[encoded data removed]",
      "text/plain": [
       "<matplotlib.figure.Figure at 0x122485550>"
      ]
     },
     "metadata": {},
     "output_type": "display_data"
    },
    {
     "data": {
      "image/png": "[encoded data removed]",
      "text/plain": [
       "<matplotlib.figure.Figure at 0x121aa0a20>"
      ]
     },
     "metadata": {},
     "output_type": "display_data"
    }
   ],
   "source": [
    "#group data based off rev_id and score\n",
    "\n",
    "#intialize empty dict\n",
    "for val in (set (toxicity_annotations_comments_df['median_score'])) : \n",
    "    toxicity_dict [str(val)] = toxicity_annotations_comments_df.loc[toxicity_annotations_comments_df['median_score']==val].size\n",
    "    comment_length_dict[str(val)] = (toxicity_annotations_comments_df.loc[toxicity_annotations_comments_df['median_score']==float(val)]['comment_len']).mean()    \n",
    "\n",
    "print (\"toxicity hist is\" + str(toxicity_dict))\n",
    "print (\"comment length hist is \" + str(comment_length_dict))\n",
    "\n",
    "#print (toxicity_annotations_comments_df.loc[toxicity_annotations_comments_df['median_score']==-0.6]['comment_len'].mean())\n",
    "\n",
    "x,y = zip(*comment_length_dict.items())\n",
    "plt.plot(x,y,'bo')\n",
    "plt.ylabel('comment length')\n",
    "plt.xlabel('median toxicity score')\n",
    "plt.title(\"Comment length histogram\")\n",
    "plt.show()\n",
    "\n",
    "w,z = zip(*toxicity_dict.items())\n",
    "plt.plot(w,z,'g^')\n",
    "plt.ylabel('number of comments')\n",
    "plt.xlabel('median toxicity score')\n",
    "plt.title(\"Number of comments based on toxicity histogram\")\n",
    "plt.show()\n",
    "\n",
    "#--\n",
    "#toxicity hist is{'-2.0': 1610, '-1.0': 12652, '0.0': 84913, '1.0': 35611, '2.0': 1, '0.5': 20784, '-0.5': 3004, '1.5': 11, '-1.5': 1100}\n",
    "#comment length hist is {'-2.0': 459.8229813664596, '-1.0': 285.45882073980397, '0.0': 322.4702695700305, '1.0': 569.844345848193, '2.0': 0, '0.5': 0, '-0.5': 0, '1.5': 0, '-1.5': 0}\n"
   ]
  },
  {
   "cell_type": "code",
   "execution_count": null,
   "metadata": {
    "collapsed": true
   },
   "outputs": [],
   "source": [
    "#Merge the two panda tables\n",
    "#toxicity_annotations_combined = pd.merge(toxicity_annotations_comments_df,toxicity_annotations_df,on='rev_id')\n",
    "#display (toxicity_annotations_comments_df)"
   ]
  }
 ],
 "metadata": {
  "kernelspec": {
   "display_name": "Python 3",
   "language": "python",
   "name": "python3"
  },
  "language_info": {
   "codemirror_mode": {
    "name": "ipython",
    "version": 3
   },
   "file_extension": ".py",
   "mimetype": "text/x-python",
   "name": "python",
   "nbconvert_exporter": "python",
   "pygments_lexer": "ipython3",
   "version": "3.6.1"
  }
 },
 "nbformat": 4,
 "nbformat_minor": 2
}
