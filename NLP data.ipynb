{
 "cells": [
  {
   "cell_type": "markdown",
   "metadata": {},
   "source": [
    "# Notebook to do data analysis on the NLP data in the Portland Data Science Group"
   ]
  },
  {
   "cell_type": "markdown",
   "metadata": {},
   "source": [
    "Importing CSV, Pandas, Ipython display to display pandas dataframes, nltk, matplotlib"
   ]
  },
  {
   "cell_type": "code",
   "execution_count": 1,
   "metadata": {
    "collapsed": true
   },
   "outputs": [],
   "source": [
    "import csv\n",
    "import pandas as pd\n",
    "from IPython.display import display\n",
    "import nltk \n",
    "import matplotlib.pyplot as plt\n",
    "import numpy as np"
   ]
  },
  {
   "cell_type": "markdown",
   "metadata": {},
   "source": [
    "Read in the data as pandas dataframe"
   ]
  },
  {
   "cell_type": "code",
   "execution_count": 2,
   "metadata": {
    "collapsed": true
   },
   "outputs": [],
   "source": [
    "toxicity_annotations_unanimous_df = pd.read_table('toxicity_annotations_unanimous.tsv')\n",
    "toxicity_annotations_comments_unanimous_df = pd.read_table('toxicity_annotated_comments_unanimous.tsv')\n",
    "toxicity_annotations_df = pd.read_table('toxicity_annotations.tsv')\n",
    "toxicity_annotations_comments_df = pd.read_table('toxicity_annotated_comments.tsv')"
   ]
  },
  {
   "cell_type": "markdown",
   "metadata": {},
   "source": [
    "Merge the two tables into one by computing a median score and determining toxicity of comments"
   ]
  },
  {
   "cell_type": "code",
   "execution_count": 3,
   "metadata": {
    "collapsed": true,
    "scrolled": true
   },
   "outputs": [],
   "source": [
    "#Comput mean and median scores from annotations dataset\n",
    "toxicity_annotations_comments_df[\"mean_score\"] = pd.Series(toxicity_annotations_df.groupby(\"rev_id\",as_index=False).mean()[\"toxicity_score\"])\n",
    "toxicity_annotations_comments_df[\"median_score\"] = pd.Series(toxicity_annotations_df.groupby(\"rev_id\",as_index=False).median()[\"toxicity_score\"])\n",
    "# create binary variable toxicity: if median score < 0, toxicity=1, otherwise 0\n",
    "toxicity_annotations_comments_df[\"toxicity\"] = (toxicity_annotations_comments_df[\"median_score\"] < 0).astype(int)\n",
    "\n",
    "#display (toxicity_annotations_comments_df)"
   ]
  },
  {
   "cell_type": "markdown",
   "metadata": {},
   "source": [
    "Cleaning up the data and adding a few new columns to help analysis"
   ]
  },
  {
   "cell_type": "code",
   "execution_count": 4,
   "metadata": {
    "collapsed": true,
    "scrolled": true
   },
   "outputs": [],
   "source": [
    "#Replace \"newline token\" with \\n\n",
    "toxicity_annotations_comments_df['comment'].replace('NEWLINE_TOKEN',' ',regex=True,inplace=True)\n",
    "toxicity_annotations_comments_df['comment'].replace('TAB_TOKEN',' ',regex=True,inplace=True)\n",
    "\n",
    "#Compute comment length for each comment and store it as a table\n",
    "toxicity_annotations_comments_df['comment_len'] = toxicity_annotations_comments_df['comment'].apply(len)"
   ]
  },
  {
   "cell_type": "markdown",
   "metadata": {},
   "source": [
    "Plotting some basic plots about the data"
   ]
  },
  {
   "cell_type": "code",
   "execution_count": 5,
   "metadata": {},
   "outputs": [
    {
     "name": "stdout",
     "output_type": "stream",
     "text": [
      "toxicity hist is{'0.5': 228624, '0.0': 934043, '-0.5': 33044, '1.0': 391721, '1.5': 121, '2.0': 11, '-2.0': 17710, '-1.0': 139172, '-1.5': 12100}\n",
      "comment length hist is {'0.5': 503.7797344110854, '0.0': 322.4702695700305, '-0.5': 409.1398135818908, '1.0': 569.844345848193, '1.5': 519.0, '2.0': 472.0, '-2.0': 459.8229813664596, '-1.0': 285.45882073980397, '-1.5': 241.01272727272726}\n"
     ]
    },
    {
     "data": {
      "image/png": "[encoded data removed]",
      "text/plain": [
       "<matplotlib.figure.Figure at 0x117e9e1d0>"
      ]
     },
     "metadata": {},
     "output_type": "display_data"
    },
    {
     "data": {
      "image/png": "[encoded data removed]",
      "text/plain": [
       "<matplotlib.figure.Figure at 0x11f2d2860>"
      ]
     },
     "metadata": {},
     "output_type": "display_data"
    }
   ],
   "source": [
    "#group data based off rev_id and score\n",
    "\n",
    "toxicity_dict = {};\n",
    "comment_length_dict = {};\n",
    "\n",
    "#intialize empty dict\n",
    "for val in (set (toxicity_annotations_comments_df['median_score'])) : \n",
    "    toxicity_dict [str(val)] = toxicity_annotations_comments_df.loc[toxicity_annotations_comments_df['median_score']==val].size\n",
    "    comment_length_dict[str(val)] = (toxicity_annotations_comments_df.loc[toxicity_annotations_comments_df['median_score']==float(val)]['comment_len']).mean()    \n",
    "\n",
    "print (\"toxicity hist is\" + str(toxicity_dict))\n",
    "print (\"comment length hist is \" + str(comment_length_dict))\n",
    "\n",
    "#print (toxicity_annotations_comments_df.loc[toxicity_annotations_comments_df['median_score']==-0.6]['comment_len'].mean())\n",
    "\n",
    "x,y = zip(*comment_length_dict.items())\n",
    "plt.plot(x,y,'bo')\n",
    "plt.ylabel('comment length')\n",
    "plt.xlabel('median toxicity score')\n",
    "plt.title(\"Comment length histogram\")\n",
    "plt.show()\n",
    "\n",
    "w,z = zip(*toxicity_dict.items())\n",
    "plt.plot(w,z,'g^')\n",
    "plt.ylabel('number of comments')\n",
    "plt.xlabel('median toxicity score')\n",
    "plt.title(\"Number of comments based on toxicity histogram\")\n",
    "plt.show()\n",
    "\n",
    "#--\n",
    "#toxicity hist is{'-2.0': 1610, '-1.0': 12652, '0.0': 84913, '1.0': 35611, '2.0': 1, '0.5': 20784, '-0.5': 3004, '1.5': 11, '-1.5': 1100}\n",
    "#comment length hist is {'-2.0': 459.8229813664596, '-1.0': 285.45882073980397, '0.0': 322.4702695700305, '1.0': 569.844345848193, '2.0': 0, '0.5': 0, '-0.5': 0, '1.5': 0, '-1.5': 0}\n"
   ]
  },
  {
   "cell_type": "markdown",
   "metadata": {},
   "source": [
    "Merge the two tables (not used) "
   ]
  },
  {
   "cell_type": "code",
   "execution_count": 6,
   "metadata": {
    "collapsed": true
   },
   "outputs": [],
   "source": [
    "#Merge the two panda tables\n",
    "#toxicity_annotations_combined = pd.merge(toxicity_annotations_comments_df,toxicity_annotations_df,on='rev_id')\n",
    "#display (toxicity_annotations_comments_df)"
   ]
  },
  {
   "cell_type": "markdown",
   "metadata": {},
   "source": [
    "Running the stemmer"
   ]
  },
  {
   "cell_type": "code",
   "execution_count": 7,
   "metadata": {},
   "outputs": [
    {
     "name": "stdout",
     "output_type": "stream",
     "text": [
      "0 ,5000 ,10000 ,15000 ,20000 ,25000 ,30000 ,35000 ,40000 ,45000 ,50000 ,55000 ,60000 ,65000 ,70000 ,75000 ,80000 ,85000 ,90000 ,95000 ,100000 ,105000 ,110000 ,115000 ,120000 ,125000 ,130000 ,135000 ,140000 ,145000 ,150000 ,155000 ,CPU times: user 3min 45s, sys: 4.92 s, total: 3min 50s\n",
      "Wall time: 3min 53s\n"
     ]
    }
   ],
   "source": [
    "%%time\n",
    "import re\n",
    "from nltk.stem import PorterStemmer\n",
    "from nltk.tokenize import sent_tokenize, word_tokenize\n",
    "from nltk.corpus import stopwords as sw\n",
    "ps = PorterStemmer()\n",
    "\n",
    "# set up regex expression to remove all but alpha chars and whitespace\n",
    "regex = re.compile('[^a-zA-Z\\s]') \n",
    "\n",
    "drop_stopwords = True # change this to False to keep stop words\n",
    "\n",
    "# create set of stop words from nltk corpus\n",
    "stopwords = set(sw.words('english'))\n",
    "\n",
    "numsamples = toxicity_annotations_comments_df.comment.shape[0]\n",
    "\n",
    "# transform each sample text:\n",
    "stemmed_text = []\n",
    "for text,i in zip(toxicity_annotations_comments_df.comment,range(numsamples)):\n",
    "    # set to lower case\n",
    "    text = regex.sub('',text.lower())\n",
    "    # look at each word in text\n",
    "    t = []\n",
    "    for word in word_tokenize(text):\n",
    "        if len(word) < 30: # drop \"words\" that are too long (otherwise stem crashes!)\n",
    "            if not drop_stopwords or word not in stopwords: # drop stopwords\n",
    "                t.append(ps.stem(word)) # stem the added word\n",
    "    stemmed_text.append(\" \".join(t)) # re-combine list of stemmed words\n",
    "    if not i%5000: print(i,',', end=\"\")\n",
    "\n",
    "toxicity_annotations_comments_df[\"stemmed\"] = pd.Series(np.array(stemmed_text)) # convert list of sample texts to pandas series\n"
   ]
  },
  {
   "cell_type": "code",
   "execution_count": 8,
   "metadata": {},
   "outputs": [
    {
     "data": {
      "text/html": [
       "<div>\n",
       "<style>\n",
       "    .dataframe thead tr:only-child th {\n",
       "        text-align: right;\n",
       "    }\n",
       "\n",
       "    .dataframe thead th {\n",
       "        text-align: left;\n",
       "    }\n",
       "\n",
       "    .dataframe tbody tr th {\n",
       "        vertical-align: top;\n",
       "    }\n",
       "</style>\n",
       "<table border=\"1\" class=\"dataframe\">\n",
       "  <thead>\n",
       "    <tr style=\"text-align: right;\">\n",
       "      <th></th>\n",
       "      <th>rev_id</th>\n",
       "      <th>comment</th>\n",
       "      <th>year</th>\n",
       "      <th>logged_in</th>\n",
       "      <th>ns</th>\n",
       "      <th>sample</th>\n",
       "      <th>split</th>\n",
       "      <th>mean_score</th>\n",
       "      <th>median_score</th>\n",
       "      <th>toxicity</th>\n",
       "      <th>comment_len</th>\n",
       "      <th>stemmed</th>\n",
       "    </tr>\n",
       "  </thead>\n",
       "  <tbody>\n",
       "    <tr>\n",
       "      <th>0</th>\n",
       "      <td>2232.0</td>\n",
       "      <td>This: :One can make an analogy in mathematical...</td>\n",
       "      <td>2002</td>\n",
       "      <td>True</td>\n",
       "      <td>article</td>\n",
       "      <td>random</td>\n",
       "      <td>train</td>\n",
       "      <td>0.4</td>\n",
       "      <td>0.5</td>\n",
       "      <td>0</td>\n",
       "      <td>651</td>\n",
       "      <td>one make analog mathemat term envis distribut ...</td>\n",
       "    </tr>\n",
       "    <tr>\n",
       "      <th>1</th>\n",
       "      <td>4216.0</td>\n",
       "      <td>`  :Clarification for you  (and Zundark's righ...</td>\n",
       "      <td>2002</td>\n",
       "      <td>True</td>\n",
       "      <td>user</td>\n",
       "      <td>random</td>\n",
       "      <td>train</td>\n",
       "      <td>0.5</td>\n",
       "      <td>0.0</td>\n",
       "      <td>0</td>\n",
       "      <td>611</td>\n",
       "      <td>clarif zundark right check wikipedia bug page ...</td>\n",
       "    </tr>\n",
       "    <tr>\n",
       "      <th>2</th>\n",
       "      <td>8953.0</td>\n",
       "      <td>Elected or Electoral? JHK</td>\n",
       "      <td>2002</td>\n",
       "      <td>False</td>\n",
       "      <td>article</td>\n",
       "      <td>random</td>\n",
       "      <td>test</td>\n",
       "      <td>0.1</td>\n",
       "      <td>0.0</td>\n",
       "      <td>0</td>\n",
       "      <td>25</td>\n",
       "      <td>elect elector jhk</td>\n",
       "    </tr>\n",
       "    <tr>\n",
       "      <th>3</th>\n",
       "      <td>26547.0</td>\n",
       "      <td>`This is such a fun entry.   Devotchka  I once...</td>\n",
       "      <td>2002</td>\n",
       "      <td>True</td>\n",
       "      <td>article</td>\n",
       "      <td>random</td>\n",
       "      <td>train</td>\n",
       "      <td>0.6</td>\n",
       "      <td>0.0</td>\n",
       "      <td>0</td>\n",
       "      <td>2976</td>\n",
       "      <td>fun entri devotchka cowork korea couldnt tell ...</td>\n",
       "    </tr>\n",
       "    <tr>\n",
       "      <th>4</th>\n",
       "      <td>28959.0</td>\n",
       "      <td>Please relate the ozone hole to increases in c...</td>\n",
       "      <td>2002</td>\n",
       "      <td>True</td>\n",
       "      <td>article</td>\n",
       "      <td>random</td>\n",
       "      <td>test</td>\n",
       "      <td>0.2</td>\n",
       "      <td>0.0</td>\n",
       "      <td>0</td>\n",
       "      <td>197</td>\n",
       "      <td>pleas relat ozon hole increas cancer provid fi...</td>\n",
       "    </tr>\n",
       "  </tbody>\n",
       "</table>\n",
       "</div>"
      ],
      "text/plain": [
       "    rev_id                                            comment  year  \\\n",
       "0   2232.0  This: :One can make an analogy in mathematical...  2002   \n",
       "1   4216.0  `  :Clarification for you  (and Zundark's righ...  2002   \n",
       "2   8953.0                          Elected or Electoral? JHK  2002   \n",
       "3  26547.0  `This is such a fun entry.   Devotchka  I once...  2002   \n",
       "4  28959.0  Please relate the ozone hole to increases in c...  2002   \n",
       "\n",
       "   logged_in       ns  sample  split  mean_score  median_score  toxicity  \\\n",
       "0       True  article  random  train         0.4           0.5         0   \n",
       "1       True     user  random  train         0.5           0.0         0   \n",
       "2      False  article  random   test         0.1           0.0         0   \n",
       "3       True  article  random  train         0.6           0.0         0   \n",
       "4       True  article  random   test         0.2           0.0         0   \n",
       "\n",
       "   comment_len                                            stemmed  \n",
       "0          651  one make analog mathemat term envis distribut ...  \n",
       "1          611  clarif zundark right check wikipedia bug page ...  \n",
       "2           25                                  elect elector jhk  \n",
       "3         2976  fun entri devotchka cowork korea couldnt tell ...  \n",
       "4          197  pleas relat ozon hole increas cancer provid fi...  "
      ]
     },
     "execution_count": 8,
     "metadata": {},
     "output_type": "execute_result"
    }
   ],
   "source": [
    "toxicity_annotations_comments_df.head()   "
   ]
  },
  {
   "cell_type": "code",
   "execution_count": 13,
   "metadata": {
    "collapsed": true
   },
   "outputs": [],
   "source": [
    "from explorer import FakeDataExplorer"
   ]
  },
  {
   "cell_type": "code",
   "execution_count": 14,
   "metadata": {},
   "outputs": [],
   "source": [
    "test_df_columns = ['rev_id', 'year', 'mean_score', 'median_score', 'toxicity', 'comment_len']\n",
    "test_df = toxicity_annotations_comments_df[test_df_columns]\n",
    "#test_df.astype('float')\n",
    "test_df.to_csv(\"test.csv\")"
   ]
  },
  {
   "cell_type": "code",
   "execution_count": 50,
   "metadata": {},
   "outputs": [
    {
     "data": {
      "image/png": "[encoded data removed]",
      "text/plain": [
       "<matplotlib.figure.Figure at 0x11e7d9390>"
      ]
     },
     "metadata": {},
     "output_type": "display_data"
    }
   ],
   "source": [
    "#test_df\n",
    "grsummary = test_df.groupby([\"comment_len\"]).agg(np.mean)\n",
    "#display(grsummary['median_score'])\n",
    "dict1 = grsummary['median_score'].to_dict()\n",
    "#print(dict1) \n",
    "w,z = zip(*dict1.items())\n",
    "plt.plot(w,z,'g^')\n",
    "plt.ylabel('mean toxicity score')\n",
    "plt.xlabel('comment_length')\n",
    "plt.title(\"Comment length vs toxicity score\")\n",
    "plt.show()\n"
   ]
  },
  {
   "cell_type": "code",
   "execution_count": 18,
   "metadata": {},
   "outputs": [
    {
     "data": {
      "text/plain": [
       "dict_keys(['rev_id', 'year', 'mean_score', 'median_score', 'toxicity', 'comment_len'])"
      ]
     },
     "execution_count": 18,
     "metadata": {},
     "output_type": "execute_result"
    }
   ],
   "source": [
    "ex = FakeDataExplorer(\"test.csv\")\n",
    "ex.keys()"
   ]
  },
  {
   "cell_type": "code",
   "execution_count": 26,
   "metadata": {},
   "outputs": [
    {
     "data": {
      "image/png": "[encoded data removed]",
      "text/plain": [
       "<matplotlib.figure.Figure at 0x11f4ebc88>"
      ]
     },
     "metadata": {},
     "output_type": "display_data"
    },
    {
     "name": "stdout",
     "output_type": "stream",
     "text": [
      "0\n",
      "100\n",
      "200\n",
      "300\n",
      "400\n",
      "500\n",
      "600\n",
      "700\n",
      "800\n",
      "900\n",
      "1000\n",
      "1100\n",
      "1200\n",
      "1300\n",
      "1400\n",
      "1500\n",
      "1600\n",
      "1700\n",
      "1800\n",
      "1900\n",
      "2000\n",
      "2100\n",
      "2200\n",
      "2300\n",
      "2400\n",
      "2500\n",
      "2600\n",
      "2700\n",
      "2800\n",
      "2900\n",
      "3000\n",
      "3100\n",
      "3200\n",
      "3300\n",
      "3400\n",
      "3500\n",
      "3600\n",
      "3700\n",
      "3800\n",
      "3900\n",
      "4000\n",
      "4100\n",
      "4200\n",
      "4300\n",
      "4400\n",
      "4500\n",
      "4600\n",
      "4700\n",
      "4800\n",
      "4900\n"
     ]
    }
   ],
   "source": [
    "ex.scatter_plots(\"comment_len\", \"median_score\")\n",
    "\n"
   ]
  },
  {
   "cell_type": "code",
   "execution_count": null,
   "metadata": {
    "collapsed": true
   },
   "outputs": [],
   "source": [
    "for i in range(0, 5000, 100):\n",
    "    "
   ]
  }
 ],
 "metadata": {
  "kernelspec": {
   "display_name": "Python 3",
   "language": "python",
   "name": "python3"
  },
  "language_info": {
   "codemirror_mode": {
    "name": "ipython",
    "version": 3
   },
   "file_extension": ".py",
   "mimetype": "text/x-python",
   "name": "python",
   "nbconvert_exporter": "python",
   "pygments_lexer": "ipython3",
   "version": "3.6.1"
  }
 },
 "nbformat": 4,
 "nbformat_minor": 2
}
